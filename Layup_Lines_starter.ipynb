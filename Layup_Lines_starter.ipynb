{
 "cells": [
  {
   "cell_type": "markdown",
   "metadata": {
    "slideshow": {
     "slide_type": "-"
    }
   },
   "source": [
    "# GitHub Practice\n",
    "_Author: Nick Beaudoin_ "
   ]
  },
  {
   "cell_type": "markdown",
   "metadata": {},
   "source": [
    "Git and GitHub are essntial to the moden data science toolkit. In the example below, you will get some extra practice for the daily tasks you will be using in class with Git and GitHub."
   ]
  },
  {
   "cell_type": "markdown",
   "metadata": {},
   "source": [
    "As a review, the following process flow show the work cycle.\n",
    "\n",
    "1. Go to class repo\n",
    "2. Fork repo to your personal GitHub account\n",
    "3. On your local machine navigate to your folder (`cd Desktop/<GA_folder>`)\n",
    "4. Copy forked repo link from your GitHub page\n",
    "5. `git clone <repo_link>`\n",
    "6. Make folder changes on your local machine\n",
    "7. `git status`\n",
    "8. `git add .`         (or you can use `git add <file_name>)\n",
    "9. `git commit -m \"pithy message\"`\n",
    "10. `git push origin master`"
   ]
  },
  {
   "cell_type": "markdown",
   "metadata": {},
   "source": [
    "<img src = 'flow_image.png'>"
   ]
  },
  {
   "cell_type": "markdown",
   "metadata": {},
   "source": [
    "\n",
    "## #1. Clone the repo to your local machine"
   ]
  },
  {
   "cell_type": "markdown",
   "metadata": {},
   "source": [
    "## #2. From a new terminal window, create a folder called \"new_folder\""
   ]
  },
  {
   "cell_type": "markdown",
   "metadata": {},
   "source": [
    "## #3. Add a text document to the folder called \"cool_text_file.txt\""
   ]
  },
  {
   "cell_type": "markdown",
   "metadata": {},
   "source": [
    "## #4. Add some text into the file"
   ]
  },
  {
   "cell_type": "markdown",
   "metadata": {},
   "source": [
    "## #5. Push the folder to GitHub"
   ]
  },
  {
   "cell_type": "markdown",
   "metadata": {},
   "source": [
    "## #6. Copy/paste the link to the Slack channel"
   ]
  },
  {
   "cell_type": "code",
   "execution_count": null,
   "metadata": {},
   "outputs": [],
   "source": []
  }
 ],
 "metadata": {
  "kernelspec": {
   "display_name": "Python 3",
   "language": "python",
   "name": "python3"
  },
  "language_info": {
   "codemirror_mode": {
    "name": "ipython",
    "version": 3
   },
   "file_extension": ".py",
   "mimetype": "text/x-python",
   "name": "python",
   "nbconvert_exporter": "python",
   "pygments_lexer": "ipython3",
   "version": "3.7.3"
  }
 },
 "nbformat": 4,
 "nbformat_minor": 2
}
